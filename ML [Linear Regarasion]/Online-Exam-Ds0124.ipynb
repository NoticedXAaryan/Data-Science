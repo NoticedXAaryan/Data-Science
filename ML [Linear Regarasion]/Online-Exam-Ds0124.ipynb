{
 "cells": [
  {
   "cell_type": "code",
   "execution_count": 70,
   "id": "4e6df90c-f0ee-4456-b1d5-d2cd725714d6",
   "metadata": {},
   "outputs": [],
   "source": [
    "import pandas as pd\n",
    "import math\n",
    "import numpy as np\n",
    "import matplotlib as plt\n",
    "from sklearn import linear_model"
   ]
  },
  {
   "cell_type": "code",
   "execution_count": 71,
   "id": "382c2ff4-4d59-4910-a2ae-d373ec706799",
   "metadata": {},
   "outputs": [
    {
     "data": {
      "text/html": [
       "<div>\n",
       "<style scoped>\n",
       "    .dataframe tbody tr th:only-of-type {\n",
       "        vertical-align: middle;\n",
       "    }\n",
       "\n",
       "    .dataframe tbody tr th {\n",
       "        vertical-align: top;\n",
       "    }\n",
       "\n",
       "    .dataframe thead th {\n",
       "        text-align: right;\n",
       "    }\n",
       "</style>\n",
       "<table border=\"1\" class=\"dataframe\">\n",
       "  <thead>\n",
       "    <tr style=\"text-align: right;\">\n",
       "      <th></th>\n",
       "      <th>Republic</th>\n",
       "      <th>NDTV</th>\n",
       "      <th>TV5</th>\n",
       "      <th>TV9</th>\n",
       "      <th>AajTak</th>\n",
       "      <th>sales</th>\n",
       "    </tr>\n",
       "  </thead>\n",
       "  <tbody>\n",
       "    <tr>\n",
       "      <th>0</th>\n",
       "      <td>8.7</td>\n",
       "      <td>48.9</td>\n",
       "      <td>4.0</td>\n",
       "      <td>75.0</td>\n",
       "      <td>49.0</td>\n",
       "      <td>7.2</td>\n",
       "    </tr>\n",
       "    <tr>\n",
       "      <th>1</th>\n",
       "      <td>57.5</td>\n",
       "      <td>32.8</td>\n",
       "      <td>65.9</td>\n",
       "      <td>23.5</td>\n",
       "      <td>57.5</td>\n",
       "      <td>11.8</td>\n",
       "    </tr>\n",
       "    <tr>\n",
       "      <th>2</th>\n",
       "      <td>120.2</td>\n",
       "      <td>19.6</td>\n",
       "      <td>7.2</td>\n",
       "      <td>11.6</td>\n",
       "      <td>18.5</td>\n",
       "      <td>13.2</td>\n",
       "    </tr>\n",
       "    <tr>\n",
       "      <th>3</th>\n",
       "      <td>8.6</td>\n",
       "      <td>2.1</td>\n",
       "      <td>46.0</td>\n",
       "      <td>1.0</td>\n",
       "      <td>2.6</td>\n",
       "      <td>4.8</td>\n",
       "    </tr>\n",
       "    <tr>\n",
       "      <th>4</th>\n",
       "      <td>199.8</td>\n",
       "      <td>2.6</td>\n",
       "      <td>52.9</td>\n",
       "      <td>21.2</td>\n",
       "      <td>2.9</td>\n",
       "      <td>10.6</td>\n",
       "    </tr>\n",
       "    <tr>\n",
       "      <th>...</th>\n",
       "      <td>...</td>\n",
       "      <td>...</td>\n",
       "      <td>...</td>\n",
       "      <td>...</td>\n",
       "      <td>...</td>\n",
       "      <td>...</td>\n",
       "    </tr>\n",
       "    <tr>\n",
       "      <th>300</th>\n",
       "      <td>286.0</td>\n",
       "      <td>13.9</td>\n",
       "      <td>35.2</td>\n",
       "      <td>3.7</td>\n",
       "      <td>13.9</td>\n",
       "      <td>15.9</td>\n",
       "    </tr>\n",
       "    <tr>\n",
       "      <th>301</th>\n",
       "      <td>18.7</td>\n",
       "      <td>12.1</td>\n",
       "      <td>23.7</td>\n",
       "      <td>23.4</td>\n",
       "      <td>18.7</td>\n",
       "      <td>6.7</td>\n",
       "    </tr>\n",
       "    <tr>\n",
       "      <th>302</th>\n",
       "      <td>39.5</td>\n",
       "      <td>41.1</td>\n",
       "      <td>17.6</td>\n",
       "      <td>5.8</td>\n",
       "      <td>39.5</td>\n",
       "      <td>10.8</td>\n",
       "    </tr>\n",
       "    <tr>\n",
       "      <th>303</th>\n",
       "      <td>75.5</td>\n",
       "      <td>10.8</td>\n",
       "      <td>8.3</td>\n",
       "      <td>6.0</td>\n",
       "      <td>75.5</td>\n",
       "      <td>9.9</td>\n",
       "    </tr>\n",
       "    <tr>\n",
       "      <th>304</th>\n",
       "      <td>17.2</td>\n",
       "      <td>4.1</td>\n",
       "      <td>30.0</td>\n",
       "      <td>31.6</td>\n",
       "      <td>17.2</td>\n",
       "      <td>5.9</td>\n",
       "    </tr>\n",
       "  </tbody>\n",
       "</table>\n",
       "<p>305 rows × 6 columns</p>\n",
       "</div>"
      ],
      "text/plain": [
       "     Republic  NDTV   TV5   TV9  AajTak  sales\n",
       "0         8.7  48.9   4.0  75.0    49.0    7.2\n",
       "1        57.5  32.8  65.9  23.5    57.5   11.8\n",
       "2       120.2  19.6   7.2  11.6    18.5   13.2\n",
       "3         8.6   2.1  46.0   1.0     2.6    4.8\n",
       "4       199.8   2.6  52.9  21.2     2.9   10.6\n",
       "..        ...   ...   ...   ...     ...    ...\n",
       "300     286.0  13.9  35.2   3.7    13.9   15.9\n",
       "301      18.7  12.1  23.7  23.4    18.7    6.7\n",
       "302      39.5  41.1  17.6   5.8    39.5   10.8\n",
       "303      75.5  10.8   8.3   6.0    75.5    9.9\n",
       "304      17.2   4.1  30.0  31.6    17.2    5.9\n",
       "\n",
       "[305 rows x 6 columns]"
      ]
     },
     "execution_count": 71,
     "metadata": {},
     "output_type": "execute_result"
    }
   ],
   "source": [
    "#reading data\n",
    "df= pd.read_csv(\"Sales_LinReg.csv\")\n",
    "df"
   ]
  },
  {
   "cell_type": "code",
   "execution_count": 72,
   "id": "bce0e110-71c2-488b-b20a-a49bdb2ea4f8",
   "metadata": {},
   "outputs": [],
   "source": [
    "m_republic = math.floor(df.Republic.median())\n",
    "df.Republic=df.Republic.fillna(m_republic)"
   ]
  },
  {
   "cell_type": "code",
   "execution_count": 73,
   "id": "64674cc0-93d5-4ab0-98e4-a69b87a6b5e6",
   "metadata": {},
   "outputs": [],
   "source": [
    "m_n=math.floor(df.NDTV.median())\n",
    "df.NDTV=df.NDTV.fillna(m_n)"
   ]
  },
  {
   "cell_type": "code",
   "execution_count": 74,
   "id": "1e158fb9-575b-4a92-885d-70cad22838b1",
   "metadata": {},
   "outputs": [],
   "source": [
    "m_t=math.floor(df.TV5.median())\n",
    "df.TV5=df.TV5.fillna(m_t)"
   ]
  },
  {
   "cell_type": "code",
   "execution_count": 75,
   "id": "8df9acec-05a0-4dca-97f7-b26f2a6d0272",
   "metadata": {},
   "outputs": [],
   "source": [
    "m_tv=math.floor(df.TV9.median())\n",
    "df.TV9=df.TV9.fillna(m_tv)"
   ]
  },
  {
   "cell_type": "code",
   "execution_count": 78,
   "id": "17684620-5572-45f4-9834-7b7dff60093a",
   "metadata": {},
   "outputs": [],
   "source": [
    "m_aaj=math.floor(df.AajTak.median())\n",
    "df.AajTak=df.AajTak.fillna(m_aaj)"
   ]
  },
  {
   "cell_type": "raw",
   "id": "bd62b05c-d817-41be-8c9d-73b7e2f00ff1",
   "metadata": {},
   "source": [
    "reg =linear_model.LinearRegression()\n",
    "reg.fit(df[['Republic','NDTV','TV5','TV9','AajTak']],df.sales)"
   ]
  },
  {
   "cell_type": "code",
   "execution_count": 79,
   "id": "876a2e63-bcf0-430b-81f1-c10befcdc201",
   "metadata": {},
   "outputs": [
    {
     "data": {
      "text/plain": [
       "array([0.04466874, 0.1632843 , 0.00210169, 0.00474941, 0.02183006])"
      ]
     },
     "execution_count": 79,
     "metadata": {},
     "output_type": "execute_result"
    }
   ],
   "source": [
    "reg.coef_"
   ]
  },
  {
   "cell_type": "code",
   "execution_count": 81,
   "id": "47a89d65-577a-4595-91a2-0b062608076b",
   "metadata": {},
   "outputs": [
    {
     "data": {
      "text/plain": [
       "2.837975182409627"
      ]
     },
     "execution_count": 81,
     "metadata": {},
     "output_type": "execute_result"
    }
   ],
   "source": [
    "reg.intercept_"
   ]
  },
  {
   "cell_type": "code",
   "execution_count": 82,
   "id": "6fa6e2e9-8b83-4328-b179-15300b981dac",
   "metadata": {},
   "outputs": [
    {
     "name": "stderr",
     "output_type": "stream",
     "text": [
      "C:\\Users\\Aaryan\\anaconda3\\Lib\\site-packages\\sklearn\\base.py:439: UserWarning: X does not have valid feature names, but LinearRegression was fitted with feature names\n",
      "  warnings.warn(\n"
     ]
    },
    {
     "data": {
      "text/plain": [
       "array([5.06356439])"
      ]
     },
     "execution_count": 82,
     "metadata": {},
     "output_type": "execute_result"
    }
   ],
   "source": [
    "reg.predict([[7,9,4,64,6]])"
   ]
  },
  {
   "cell_type": "code",
   "execution_count": null,
   "id": "0cc81d94-28c4-44ff-8f4f-4fda02e979c2",
   "metadata": {},
   "outputs": [],
   "source": []
  }
 ],
 "metadata": {
  "kernelspec": {
   "display_name": "Python 3 (ipykernel)",
   "language": "python",
   "name": "python3"
  },
  "language_info": {
   "codemirror_mode": {
    "name": "ipython",
    "version": 3
   },
   "file_extension": ".py",
   "mimetype": "text/x-python",
   "name": "python",
   "nbconvert_exporter": "python",
   "pygments_lexer": "ipython3",
   "version": "3.11.7"
  }
 },
 "nbformat": 4,
 "nbformat_minor": 5
}
